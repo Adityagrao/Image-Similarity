{
 "cells": [
  {
   "cell_type": "code",
   "execution_count": 1,
   "metadata": {},
   "outputs": [],
   "source": [
    "import pandas as pd\n",
    "import numpy as np"
   ]
  },
  {
   "cell_type": "code",
   "execution_count": 45,
   "metadata": {},
   "outputs": [
    {
     "name": "stderr",
     "output_type": "stream",
     "text": [
      "/home/aditya8404/.local/lib/python3.5/site-packages/IPython/core/interactiveshell.py:2785: DtypeWarning: Columns (20,30,31) have mixed types. Specify dtype option on import or set low_memory=False.\n",
      "  interactivity=interactivity, compiler=compiler, result=result)\n"
     ]
    }
   ],
   "source": [
    "top_data = pd.read_csv('data/topdata.csv')"
   ]
  },
  {
   "cell_type": "code",
   "execution_count": 46,
   "metadata": {},
   "outputs": [
    {
     "data": {
      "text/html": [
       "<div>\n",
       "<style scoped>\n",
       "    .dataframe tbody tr th:only-of-type {\n",
       "        vertical-align: middle;\n",
       "    }\n",
       "\n",
       "    .dataframe tbody tr th {\n",
       "        vertical-align: top;\n",
       "    }\n",
       "\n",
       "    .dataframe thead th {\n",
       "        text-align: right;\n",
       "    }\n",
       "</style>\n",
       "<table border=\"1\" class=\"dataframe\">\n",
       "  <thead>\n",
       "    <tr style=\"text-align: right;\">\n",
       "      <th></th>\n",
       "      <th>Unnamed: 0</th>\n",
       "      <th>productId</th>\n",
       "      <th>title</th>\n",
       "      <th>description</th>\n",
       "      <th>imageUrlStr</th>\n",
       "      <th>mrp</th>\n",
       "      <th>sellingPrice</th>\n",
       "      <th>specialPrice</th>\n",
       "      <th>productUrl</th>\n",
       "      <th>categories</th>\n",
       "      <th>...</th>\n",
       "      <th>detailedSpecsStr</th>\n",
       "      <th>specificationList</th>\n",
       "      <th>sellerName</th>\n",
       "      <th>sellerAverageRating</th>\n",
       "      <th>sellerNoOfRatings</th>\n",
       "      <th>sellerNoOfReviews</th>\n",
       "      <th>sleeve</th>\n",
       "      <th>neck</th>\n",
       "      <th>idealFor</th>\n",
       "      <th>select</th>\n",
       "    </tr>\n",
       "  </thead>\n",
       "  <tbody>\n",
       "    <tr>\n",
       "      <th>0</th>\n",
       "      <td>0</td>\n",
       "      <td>SPWDS7UPDCMEG8WH</td>\n",
       "      <td>Clovia Women's Shapewear</td>\n",
       "      <td>NaN</td>\n",
       "      <td>http://img.fkcdn.com/image/shapewear/8/w/h/sw0...</td>\n",
       "      <td>1199.0</td>\n",
       "      <td>959.0</td>\n",
       "      <td>959.0</td>\n",
       "      <td>http://dl.flipkart.com/dl/clovia-women-s-shape...</td>\n",
       "      <td>Apparels&gt;Women&gt;Lingerie &amp; Sleepwear&gt;Shapewears</td>\n",
       "      <td>...</td>\n",
       "      <td>Type: Shapewear;Women's Shapewear;Solid Patter...</td>\n",
       "      <td>NaN</td>\n",
       "      <td>Neha Kant</td>\n",
       "      <td>3.6</td>\n",
       "      <td>2123</td>\n",
       "      <td>58</td>\n",
       "      <td>NaN</td>\n",
       "      <td>NaN</td>\n",
       "      <td>NaN</td>\n",
       "      <td>1</td>\n",
       "    </tr>\n",
       "    <tr>\n",
       "      <th>1</th>\n",
       "      <td>1</td>\n",
       "      <td>SPWDTSM9QHVDHTN6</td>\n",
       "      <td>Clovia Women's Shapewear</td>\n",
       "      <td>NaN</td>\n",
       "      <td>http://img.fkcdn.com/image/shapewear/z/x/w/sw0...</td>\n",
       "      <td>999.0</td>\n",
       "      <td>649.0</td>\n",
       "      <td>616.0</td>\n",
       "      <td>http://dl.flipkart.com/dl/clovia-women-s-shape...</td>\n",
       "      <td>Apparels&gt;Women&gt;Lingerie &amp; Sleepwear&gt;Shapewears</td>\n",
       "      <td>...</td>\n",
       "      <td>Type: Thigh Slimmer;Women's Shapewear;Solid Pa...</td>\n",
       "      <td>NaN</td>\n",
       "      <td>Neha Kant</td>\n",
       "      <td>3.6</td>\n",
       "      <td>2123</td>\n",
       "      <td>58</td>\n",
       "      <td>NaN</td>\n",
       "      <td>NaN</td>\n",
       "      <td>NaN</td>\n",
       "      <td>1</td>\n",
       "    </tr>\n",
       "    <tr>\n",
       "      <th>2</th>\n",
       "      <td>2</td>\n",
       "      <td>SPWDTSMAGMHDNENJ</td>\n",
       "      <td>Clovia Women's Shapewear</td>\n",
       "      <td>NaN</td>\n",
       "      <td>http://img.fkcdn.com/image/shapewear/z/x/w/sw0...</td>\n",
       "      <td>999.0</td>\n",
       "      <td>649.0</td>\n",
       "      <td>616.0</td>\n",
       "      <td>http://dl.flipkart.com/dl/clovia-women-s-shape...</td>\n",
       "      <td>Apparels&gt;Women&gt;Lingerie &amp; Sleepwear&gt;Shapewears</td>\n",
       "      <td>...</td>\n",
       "      <td>Type: Thigh Slimmer;Women's Shapewear;Solid Pa...</td>\n",
       "      <td>NaN</td>\n",
       "      <td>Neha Kant</td>\n",
       "      <td>3.6</td>\n",
       "      <td>2123</td>\n",
       "      <td>58</td>\n",
       "      <td>NaN</td>\n",
       "      <td>NaN</td>\n",
       "      <td>NaN</td>\n",
       "      <td>1</td>\n",
       "    </tr>\n",
       "    <tr>\n",
       "      <th>3</th>\n",
       "      <td>3</td>\n",
       "      <td>SPWDWDT6NQDAHETZ</td>\n",
       "      <td>Triumph Shape 04 PLY Women's Shapewear</td>\n",
       "      <td>NaN</td>\n",
       "      <td>http://img.fkcdn.com/image/shapewear/e/t/z/401...</td>\n",
       "      <td>1899.0</td>\n",
       "      <td>1599.0</td>\n",
       "      <td>1599.0</td>\n",
       "      <td>http://dl.flipkart.com/dl/triumph-shape-04-ply...</td>\n",
       "      <td>Apparels&gt;Women&gt;Lingerie &amp; Sleepwear&gt;Shapewears</td>\n",
       "      <td>...</td>\n",
       "      <td>Women's Shapewear;Checkered Pattern;Fabric: 20...</td>\n",
       "      <td>NaN</td>\n",
       "      <td>Satvinder Singh</td>\n",
       "      <td>4.1</td>\n",
       "      <td>245590</td>\n",
       "      <td>2573</td>\n",
       "      <td>NaN</td>\n",
       "      <td>NaN</td>\n",
       "      <td>NaN</td>\n",
       "      <td>1</td>\n",
       "    </tr>\n",
       "    <tr>\n",
       "      <th>4</th>\n",
       "      <td>4</td>\n",
       "      <td>SPWE4FHG6HUMGBQH</td>\n",
       "      <td>Golden Girl Red Corset Women's Shapewear</td>\n",
       "      <td>NaN</td>\n",
       "      <td>http://img.fkcdn.com/image/shapewear/b/q/h/pan...</td>\n",
       "      <td>1399.0</td>\n",
       "      <td>475.0</td>\n",
       "      <td>475.0</td>\n",
       "      <td>http://dl.flipkart.com/dl/golden-girl-red-cors...</td>\n",
       "      <td>Apparels&gt;Women&gt;Lingerie &amp; Sleepwear&gt;Shapewears</td>\n",
       "      <td>...</td>\n",
       "      <td>Type: Shapewear;Women's Shapewear;Solid Patter...</td>\n",
       "      <td>NaN</td>\n",
       "      <td>AMIT PRAKASH</td>\n",
       "      <td>3.9</td>\n",
       "      <td>379</td>\n",
       "      <td>10</td>\n",
       "      <td>Sleeveless</td>\n",
       "      <td>NaN</td>\n",
       "      <td>NaN</td>\n",
       "      <td>1</td>\n",
       "    </tr>\n",
       "  </tbody>\n",
       "</table>\n",
       "<p>5 rows × 34 columns</p>\n",
       "</div>"
      ],
      "text/plain": [
       "   Unnamed: 0         productId                                     title  \\\n",
       "0           0  SPWDS7UPDCMEG8WH                  Clovia Women's Shapewear   \n",
       "1           1  SPWDTSM9QHVDHTN6                  Clovia Women's Shapewear   \n",
       "2           2  SPWDTSMAGMHDNENJ                  Clovia Women's Shapewear   \n",
       "3           3  SPWDWDT6NQDAHETZ    Triumph Shape 04 PLY Women's Shapewear   \n",
       "4           4  SPWE4FHG6HUMGBQH  Golden Girl Red Corset Women's Shapewear   \n",
       "\n",
       "  description                                        imageUrlStr     mrp  \\\n",
       "0         NaN  http://img.fkcdn.com/image/shapewear/8/w/h/sw0...  1199.0   \n",
       "1         NaN  http://img.fkcdn.com/image/shapewear/z/x/w/sw0...   999.0   \n",
       "2         NaN  http://img.fkcdn.com/image/shapewear/z/x/w/sw0...   999.0   \n",
       "3         NaN  http://img.fkcdn.com/image/shapewear/e/t/z/401...  1899.0   \n",
       "4         NaN  http://img.fkcdn.com/image/shapewear/b/q/h/pan...  1399.0   \n",
       "\n",
       "   sellingPrice  specialPrice  \\\n",
       "0         959.0         959.0   \n",
       "1         649.0         616.0   \n",
       "2         649.0         616.0   \n",
       "3        1599.0        1599.0   \n",
       "4         475.0         475.0   \n",
       "\n",
       "                                          productUrl  \\\n",
       "0  http://dl.flipkart.com/dl/clovia-women-s-shape...   \n",
       "1  http://dl.flipkart.com/dl/clovia-women-s-shape...   \n",
       "2  http://dl.flipkart.com/dl/clovia-women-s-shape...   \n",
       "3  http://dl.flipkart.com/dl/triumph-shape-04-ply...   \n",
       "4  http://dl.flipkart.com/dl/golden-girl-red-cors...   \n",
       "\n",
       "                                       categories  ...    \\\n",
       "0  Apparels>Women>Lingerie & Sleepwear>Shapewears  ...     \n",
       "1  Apparels>Women>Lingerie & Sleepwear>Shapewears  ...     \n",
       "2  Apparels>Women>Lingerie & Sleepwear>Shapewears  ...     \n",
       "3  Apparels>Women>Lingerie & Sleepwear>Shapewears  ...     \n",
       "4  Apparels>Women>Lingerie & Sleepwear>Shapewears  ...     \n",
       "\n",
       "                                    detailedSpecsStr specificationList  \\\n",
       "0  Type: Shapewear;Women's Shapewear;Solid Patter...               NaN   \n",
       "1  Type: Thigh Slimmer;Women's Shapewear;Solid Pa...               NaN   \n",
       "2  Type: Thigh Slimmer;Women's Shapewear;Solid Pa...               NaN   \n",
       "3  Women's Shapewear;Checkered Pattern;Fabric: 20...               NaN   \n",
       "4  Type: Shapewear;Women's Shapewear;Solid Patter...               NaN   \n",
       "\n",
       "        sellerName  sellerAverageRating  sellerNoOfRatings  sellerNoOfReviews  \\\n",
       "0        Neha Kant                  3.6               2123                 58   \n",
       "1        Neha Kant                  3.6               2123                 58   \n",
       "2        Neha Kant                  3.6               2123                 58   \n",
       "3  Satvinder Singh                  4.1             245590               2573   \n",
       "4     AMIT PRAKASH                  3.9                379                 10   \n",
       "\n",
       "       sleeve neck idealFor select  \n",
       "0         NaN  NaN      NaN      1  \n",
       "1         NaN  NaN      NaN      1  \n",
       "2         NaN  NaN      NaN      1  \n",
       "3         NaN  NaN      NaN      1  \n",
       "4  Sleeveless  NaN      NaN      1  \n",
       "\n",
       "[5 rows x 34 columns]"
      ]
     },
     "execution_count": 46,
     "metadata": {},
     "output_type": "execute_result"
    }
   ],
   "source": [
    "top_data.head()"
   ]
  },
  {
   "cell_type": "code",
   "execution_count": 47,
   "metadata": {},
   "outputs": [
    {
     "data": {
      "text/plain": [
       "['http://img.fkcdn.com/image/shapewear/2/n/g/pssh2014aw011-pretty-secrets-xl-original-imaeyg5f8fcgcesr.jpeg',\n",
       " 'http://img.fkcdn.com/image/shapewear/2/n/g/pssh2014aw011-pretty-secrets-xl-200x200-imaeyg5f8fcgcesr.jpeg',\n",
       " 'http://img.fkcdn.com/image/shapewear/2/n/g/pssh2014aw011-pretty-secrets-xl-400x400-imaeyg5f8fcgcesr.jpeg',\n",
       " 'http://img.fkcdn.com/image/shapewear/2/n/g/pssh2014aw011-pretty-secrets-xl-800x800-imaeyg5f8fcgcesr.jpeg']"
      ]
     },
     "execution_count": 47,
     "metadata": {},
     "output_type": "execute_result"
    }
   ],
   "source": [
    "str(top_data['imageUrlStr'][100]).split(';')"
   ]
  },
  {
   "cell_type": "code",
   "execution_count": 48,
   "metadata": {},
   "outputs": [
    {
     "data": {
      "text/plain": [
       "Index(['Unnamed: 0', 'productId', 'title', 'description', 'imageUrlStr', 'mrp',\n",
       "       'sellingPrice', 'specialPrice', 'productUrl', 'categories',\n",
       "       'productBrand', 'productFamily', 'inStock', 'codAvailable', 'offers',\n",
       "       'discount', 'shippingCharges', 'deliveryTime', 'size', 'color',\n",
       "       'sizeUnit', 'storage', 'displaySize', 'keySpecsStr', 'detailedSpecsStr',\n",
       "       'specificationList', 'sellerName', 'sellerAverageRating',\n",
       "       'sellerNoOfRatings', 'sellerNoOfReviews', 'sleeve', 'neck', 'idealFor',\n",
       "       'select'],\n",
       "      dtype='object')"
      ]
     },
     "execution_count": 48,
     "metadata": {},
     "output_type": "execute_result"
    }
   ],
   "source": [
    "top_data.columns"
   ]
  },
  {
   "cell_type": "code",
   "execution_count": 49,
   "metadata": {},
   "outputs": [
    {
     "data": {
      "text/plain": [
       "142"
      ]
     },
     "execution_count": 49,
     "metadata": {},
     "output_type": "execute_result"
    }
   ],
   "source": [
    "top_data['categories'].head(150000).value_counts().count()"
   ]
  },
  {
   "cell_type": "code",
   "execution_count": 50,
   "metadata": {},
   "outputs": [
    {
     "data": {
      "text/plain": [
       "305"
      ]
     },
     "execution_count": 50,
     "metadata": {},
     "output_type": "execute_result"
    }
   ],
   "source": [
    "top_data['categories'].value_counts().count()"
   ]
  },
  {
   "cell_type": "code",
   "execution_count": 51,
   "metadata": {},
   "outputs": [
    {
     "name": "stderr",
     "output_type": "stream",
     "text": [
      "/home/aditya8404/.local/lib/python3.5/site-packages/IPython/core/interactiveshell.py:2785: DtypeWarning: Columns (19,29,30) have mixed types. Specify dtype option on import or set low_memory=False.\n",
      "  interactivity=interactivity, compiler=compiler, result=result)\n"
     ]
    }
   ],
   "source": [
    "data = pd.read_csv('data/2oq-c1r.csv')"
   ]
  },
  {
   "cell_type": "code",
   "execution_count": 52,
   "metadata": {},
   "outputs": [
    {
     "data": {
      "text/plain": [
       "142"
      ]
     },
     "execution_count": 52,
     "metadata": {},
     "output_type": "execute_result"
    }
   ],
   "source": [
    "data['categories'].head(150000).value_counts().count()"
   ]
  },
  {
   "cell_type": "code",
   "execution_count": 53,
   "metadata": {},
   "outputs": [
    {
     "data": {
      "text/plain": [
       "305"
      ]
     },
     "execution_count": 53,
     "metadata": {},
     "output_type": "execute_result"
    }
   ],
   "source": [
    "data['categories'].value_counts().count()"
   ]
  },
  {
   "cell_type": "code",
   "execution_count": 2,
   "metadata": {},
   "outputs": [],
   "source": [
    "vgg16_features = np.load(\"feature_list_grey.npy\")"
   ]
  },
  {
   "cell_type": "code",
   "execution_count": 3,
   "metadata": {},
   "outputs": [
    {
     "data": {
      "text/plain": [
       "(49969, 25088)"
      ]
     },
     "execution_count": 3,
     "metadata": {},
     "output_type": "execute_result"
    }
   ],
   "source": [
    "vgg16_features.shape"
   ]
  },
  {
   "cell_type": "code",
   "execution_count": null,
   "metadata": {},
   "outputs": [],
   "source": []
  }
 ],
 "metadata": {
  "kernelspec": {
   "display_name": "Python 3",
   "language": "python",
   "name": "python3"
  },
  "language_info": {
   "codemirror_mode": {
    "name": "ipython",
    "version": 3
   },
   "file_extension": ".py",
   "mimetype": "text/x-python",
   "name": "python",
   "nbconvert_exporter": "python",
   "pygments_lexer": "ipython3",
   "version": "3.5.3"
  }
 },
 "nbformat": 4,
 "nbformat_minor": 2
}
